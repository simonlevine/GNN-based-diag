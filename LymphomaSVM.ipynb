{
  "nbformat": 4,
  "nbformat_minor": 0,
  "metadata": {
    "colab": {
      "name": "LymphomaSVM.ipynb",
      "provenance": []
    },
    "kernelspec": {
      "name": "python3",
      "display_name": "Python 3"
    }
  },
  "cells": [
    {
      "cell_type": "code",
      "metadata": {
        "colab": {
          "base_uri": "https://localhost:8080/"
        },
        "id": "vmLhKuDpZJQW",
        "outputId": "ef485701-4918-4201-acb4-741ca1240aed"
      },
      "source": [
        "from google.colab import drive\n",
        "drive.mount('/content/gdrive')\n",
        "#!cd /content/gdrive/My\\ Drive/BioImage/Project\n",
        "!pip install --upgrade --force-reinstall --no-deps kaggle\n",
        "import os\n",
        "os.environ['KAGGLE_USERNAME'] = \"serenaabraham\" \n",
        "os.environ['KAGGLE_KEY'] = \"0aa4e1881376dfb2149dcfb30ffe7975\""
      ],
      "execution_count": null,
      "outputs": [
        {
          "output_type": "stream",
          "text": [
            "Drive already mounted at /content/gdrive; to attempt to forcibly remount, call drive.mount(\"/content/gdrive\", force_remount=True).\n",
            "Processing /root/.cache/pip/wheels/3a/d1/7e/6ce09b72b770149802c653a02783821629146983ee5a360f10/kaggle-1.5.10-cp36-none-any.whl\n",
            "Installing collected packages: kaggle\n",
            "  Found existing installation: kaggle 1.5.10\n",
            "    Uninstalling kaggle-1.5.10:\n",
            "      Successfully uninstalled kaggle-1.5.10\n",
            "Successfully installed kaggle-1.5.10\n"
          ],
          "name": "stdout"
        }
      ]
    },
    {
      "cell_type": "code",
      "metadata": {
        "colab": {
          "base_uri": "https://localhost:8080/"
        },
        "id": "-VIlQaDRZ9hE",
        "outputId": "42460917-d975-4924-f397-6b1b9555b934"
      },
      "source": [
        "!kaggle datasets download -d andrewmvd/malignant-lymphoma-classification\n",
        "!unzip -q /content/malignant-lymphoma-classification.zip"
      ],
      "execution_count": null,
      "outputs": [
        {
          "output_type": "stream",
          "text": [
            "malignant-lymphoma-classification.zip: Skipping, found more recently modified local copy (use --force to force download)\n"
          ],
          "name": "stdout"
        }
      ]
    },
    {
      "cell_type": "code",
      "metadata": {
        "id": "DSZaU9VDaVzo"
      },
      "source": [
        "from skimage import io\n",
        "import matplotlib.pyplot as plt\n",
        "\n",
        "for fn in os.listdir('inputs/MCL'):\n",
        "  if(fn.endswith('.tif')):\n",
        "    original = io.imread('inputs/MCL/' + fn, plugin='tifffile')\n",
        "    height, width, length = original.shape\n",
        "    width_cutoff=width//2\n",
        "    img1=original[:,:width_cutoff,:]\n",
        "    img2=original[:,width_cutoff:,:]\n",
        "    plt.imsave('inputs/MCL/' + fn[:-4] + '1.png', img1)\n",
        "    plt.imsave('inputs/MCL/' + fn[:-4] + '2.png', img2)\n",
        "    os.remove('inputs/MCL/'+fn)"
      ],
      "execution_count": null,
      "outputs": []
    },
    {
      "cell_type": "code",
      "metadata": {
        "id": "RH-_qIiPwS1I"
      },
      "source": [
        "!pip install mahotas\n",
        "import mahotas\n",
        "import os\n",
        "from skimage import io\n",
        "import random\n",
        "import numpy as np\n",
        "import time\n",
        "import cv2"
      ],
      "execution_count": null,
      "outputs": []
    },
    {
      "cell_type": "code",
      "metadata": {
        "id": "-nY66AkdaQhj"
      },
      "source": [
        "def fd_hu_moments(image):\n",
        "    image = cv2.cvtColor(image, cv2.COLOR_BGR2GRAY)\n",
        "    feature = cv2.HuMoments(cv2.moments(image)).flatten()\n",
        "    return feature\n",
        "def fd_haralick(image):    # convert the image to grayscale\n",
        "    gray = cv2.cvtColor(image, cv2.COLOR_BGR2GRAY)\n",
        "    # compute the haralick texture feature vector\n",
        "    haralick = mahotas.features.haralick(gray).mean(axis=0)\n",
        "    return haralick\n",
        " \n",
        "def fd_histogram(image, mask=None):\n",
        "    # convert the image to HSV color-space\n",
        "    image = cv2.cvtColor(image, cv2.COLOR_BGR2HSV)\n",
        "    # compute the color histogram\n",
        "    bins=100\n",
        "    hist  = cv2.calcHist([image], [0, 1, 2], None, [bins, bins, bins], [0, 256, 0, 256, 0, 256])\n",
        "    # normalize the histogram\n",
        "    cv2.normalize(hist, hist)\n",
        "    hist.flatten()\n",
        "    return hist.flatten()"
      ],
      "execution_count": null,
      "outputs": []
    },
    {
      "cell_type": "code",
      "metadata": {
        "id": "e9FLsWHUwgfr"
      },
      "source": [
        "from sklearn.svm import SVC\n",
        "from sklearn import preprocessing\n",
        "def collect_features(a):\n",
        "  global_features = np.hstack([fd_haralick(a), fd_hu_moments(a)])\n",
        "  scaler = preprocessing.MinMaxScaler(feature_range=(0, 1))\n",
        "  #Normalize The feature vectors...\n",
        "  global_features=global_features.reshape(-1,1)\n",
        "  rescaled_features = scaler.fit_transform(global_features)\n",
        "  return rescaled_features"
      ],
      "execution_count": null,
      "outputs": []
    },
    {
      "cell_type": "code",
      "metadata": {
        "id": "1xkMIyqywmf4"
      },
      "source": [
        "X_train=[]\n",
        "Y_train=[]\n",
        "for fn in os.listdir('inputs/MCL'):\n",
        "  img=io.imread('inputs/MCL/'+fn)\n",
        "  X_train.append(collect_features(img))\n",
        "  Y_train.append(2)"
      ],
      "execution_count": null,
      "outputs": []
    },
    {
      "cell_type": "code",
      "metadata": {
        "id": "cHZLsMZLwqch"
      },
      "source": [
        "X_train=np.array(X_train)\n",
        "X_train=X_train[:,:,0]"
      ],
      "execution_count": null,
      "outputs": []
    },
    {
      "cell_type": "code",
      "metadata": {
        "id": "GCW6N8Ddw0CM"
      },
      "source": [
        "from sklearn.model_selection import train_test_split\n",
        "X_train, X_test, y_train, y_test = train_test_split(X_train,\n",
        "                                                    Y_train,\n",
        "                                                    test_size=.3,\n",
        "                                                    random_state=1234123)"
      ],
      "execution_count": null,
      "outputs": []
    },
    {
      "cell_type": "code",
      "metadata": {
        "colab": {
          "base_uri": "https://localhost:8080/"
        },
        "id": "lh_cgXMqbtQQ",
        "outputId": "4d70ff38-068f-48f0-8909-4dc6d6ee76e3"
      },
      "source": [
        "import os\n",
        "import random\n",
        "import numpy as np\n",
        "import time\n",
        "!pip install mahotas\n",
        "import mahotas"
      ],
      "execution_count": null,
      "outputs": [
        {
          "output_type": "stream",
          "text": [
            "Collecting mahotas\n",
            "\u001b[?25l  Downloading https://files.pythonhosted.org/packages/ce/3b/1f3fe2f86ffdb4a2fbc6baaf4ef0e6cebdd3e127de44ddd188dc2ed0d412/mahotas-1.4.11-cp36-cp36m-manylinux2010_x86_64.whl (5.7MB)\n",
            "\u001b[K     |████████████████████████████████| 5.7MB 4.0MB/s \n",
            "\u001b[?25hRequirement already satisfied: numpy in /usr/local/lib/python3.6/dist-packages (from mahotas) (1.18.5)\n",
            "Installing collected packages: mahotas\n",
            "Successfully installed mahotas-1.4.11\n"
          ],
          "name": "stdout"
        }
      ]
    },
    {
      "cell_type": "code",
      "metadata": {
        "id": "H_yvt6bCxCrv"
      },
      "source": [
        "from sklearn.svm import SVC\n",
        "clf = SVC(kernel='linear')\n",
        "clf.fit(X_train, y_train)\n",
        "y_pred=clf.predict(X_test)"
      ],
      "execution_count": null,
      "outputs": []
    },
    {
      "cell_type": "code",
      "metadata": {
        "id": "TgAgkxxUxRyw"
      },
      "source": [
        "from sklearn.metrics import accuracy_score\n",
        "accuracy_score(y_test,y_pred)\n"
      ],
      "execution_count": null,
      "outputs": []
    },
    {
      "cell_type": "code",
      "metadata": {
        "id": "X9UdNAFUxWJa"
      },
      "source": [
        "from sklearn.metrics import plot_confusion_matrix\n",
        "disp = plot_confusion_matrix(classifier, X_test, y_test,\n",
        "                                 display_labels=class_names,\n",
        "                                 cmap=plt.cm.Blues,\n",
        "                                 normalize=true)\n",
        "disp.ax_.set_title('Normalized Confusion Matrix using SVM')\n",
        "\n",
        "print(disp.confusion_matrix)\n",
        "\n",
        "plt.show()"
      ],
      "execution_count": null,
      "outputs": []
    }
  ]
}