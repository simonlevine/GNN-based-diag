{
  "nbformat": 4,
  "nbformat_minor": 0,
  "metadata": {
    "colab": {
      "name": "LymphomaClassificationUsingResNet.ipynb",
      "provenance": [],
      "collapsed_sections": [],
      "machine_shape": "hm"
    },
    "kernelspec": {
      "name": "python3",
      "display_name": "Python 3"
    },
    "accelerator": "GPU",
    "widgets": {
      "application/vnd.jupyter.widget-state+json": {
        "3ad8689e91734af59bea213d026b30ce": {
          "model_module": "@jupyter-widgets/controls",
          "model_name": "HBoxModel",
          "state": {
            "_view_name": "HBoxView",
            "_dom_classes": [],
            "_model_name": "HBoxModel",
            "_view_module": "@jupyter-widgets/controls",
            "_model_module_version": "1.5.0",
            "_view_count": null,
            "_view_module_version": "1.5.0",
            "box_style": "",
            "layout": "IPY_MODEL_603f56bffeb74d158736f0425d6876a5",
            "_model_module": "@jupyter-widgets/controls",
            "children": [
              "IPY_MODEL_c7efaa1e5a7a45ff9bce10e12ee50ddc",
              "IPY_MODEL_fc7d5803b3c043ba8b4f646678383051"
            ]
          }
        },
        "603f56bffeb74d158736f0425d6876a5": {
          "model_module": "@jupyter-widgets/base",
          "model_name": "LayoutModel",
          "state": {
            "_view_name": "LayoutView",
            "grid_template_rows": null,
            "right": null,
            "justify_content": null,
            "_view_module": "@jupyter-widgets/base",
            "overflow": null,
            "_model_module_version": "1.2.0",
            "_view_count": null,
            "flex_flow": null,
            "width": null,
            "min_width": null,
            "border": null,
            "align_items": null,
            "bottom": null,
            "_model_module": "@jupyter-widgets/base",
            "top": null,
            "grid_column": null,
            "overflow_y": null,
            "overflow_x": null,
            "grid_auto_flow": null,
            "grid_area": null,
            "grid_template_columns": null,
            "flex": null,
            "_model_name": "LayoutModel",
            "justify_items": null,
            "grid_row": null,
            "max_height": null,
            "align_content": null,
            "visibility": null,
            "align_self": null,
            "height": null,
            "min_height": null,
            "padding": null,
            "grid_auto_rows": null,
            "grid_gap": null,
            "max_width": null,
            "order": null,
            "_view_module_version": "1.2.0",
            "grid_template_areas": null,
            "object_position": null,
            "object_fit": null,
            "grid_auto_columns": null,
            "margin": null,
            "display": null,
            "left": null
          }
        },
        "c7efaa1e5a7a45ff9bce10e12ee50ddc": {
          "model_module": "@jupyter-widgets/controls",
          "model_name": "FloatProgressModel",
          "state": {
            "_view_name": "ProgressView",
            "style": "IPY_MODEL_d30c6790fef64c91a852f0853130a2ab",
            "_dom_classes": [],
            "description": "100%",
            "_model_name": "FloatProgressModel",
            "bar_style": "success",
            "max": 46827520,
            "_view_module": "@jupyter-widgets/controls",
            "_model_module_version": "1.5.0",
            "value": 46827520,
            "_view_count": null,
            "_view_module_version": "1.5.0",
            "orientation": "horizontal",
            "min": 0,
            "description_tooltip": null,
            "_model_module": "@jupyter-widgets/controls",
            "layout": "IPY_MODEL_bf2efa9565954877bd945c3b822f6f7d"
          }
        },
        "fc7d5803b3c043ba8b4f646678383051": {
          "model_module": "@jupyter-widgets/controls",
          "model_name": "HTMLModel",
          "state": {
            "_view_name": "HTMLView",
            "style": "IPY_MODEL_2f114f48d76c4746a114be911fc0dbd2",
            "_dom_classes": [],
            "description": "",
            "_model_name": "HTMLModel",
            "placeholder": "​",
            "_view_module": "@jupyter-widgets/controls",
            "_model_module_version": "1.5.0",
            "value": " 44.7M/44.7M [11:56&lt;00:00, 65.3kB/s]",
            "_view_count": null,
            "_view_module_version": "1.5.0",
            "description_tooltip": null,
            "_model_module": "@jupyter-widgets/controls",
            "layout": "IPY_MODEL_4cd780d9042c4e29bc89a73e2fb6b909"
          }
        },
        "d30c6790fef64c91a852f0853130a2ab": {
          "model_module": "@jupyter-widgets/controls",
          "model_name": "ProgressStyleModel",
          "state": {
            "_view_name": "StyleView",
            "_model_name": "ProgressStyleModel",
            "description_width": "initial",
            "_view_module": "@jupyter-widgets/base",
            "_model_module_version": "1.5.0",
            "_view_count": null,
            "_view_module_version": "1.2.0",
            "bar_color": null,
            "_model_module": "@jupyter-widgets/controls"
          }
        },
        "bf2efa9565954877bd945c3b822f6f7d": {
          "model_module": "@jupyter-widgets/base",
          "model_name": "LayoutModel",
          "state": {
            "_view_name": "LayoutView",
            "grid_template_rows": null,
            "right": null,
            "justify_content": null,
            "_view_module": "@jupyter-widgets/base",
            "overflow": null,
            "_model_module_version": "1.2.0",
            "_view_count": null,
            "flex_flow": null,
            "width": null,
            "min_width": null,
            "border": null,
            "align_items": null,
            "bottom": null,
            "_model_module": "@jupyter-widgets/base",
            "top": null,
            "grid_column": null,
            "overflow_y": null,
            "overflow_x": null,
            "grid_auto_flow": null,
            "grid_area": null,
            "grid_template_columns": null,
            "flex": null,
            "_model_name": "LayoutModel",
            "justify_items": null,
            "grid_row": null,
            "max_height": null,
            "align_content": null,
            "visibility": null,
            "align_self": null,
            "height": null,
            "min_height": null,
            "padding": null,
            "grid_auto_rows": null,
            "grid_gap": null,
            "max_width": null,
            "order": null,
            "_view_module_version": "1.2.0",
            "grid_template_areas": null,
            "object_position": null,
            "object_fit": null,
            "grid_auto_columns": null,
            "margin": null,
            "display": null,
            "left": null
          }
        },
        "2f114f48d76c4746a114be911fc0dbd2": {
          "model_module": "@jupyter-widgets/controls",
          "model_name": "DescriptionStyleModel",
          "state": {
            "_view_name": "StyleView",
            "_model_name": "DescriptionStyleModel",
            "description_width": "",
            "_view_module": "@jupyter-widgets/base",
            "_model_module_version": "1.5.0",
            "_view_count": null,
            "_view_module_version": "1.2.0",
            "_model_module": "@jupyter-widgets/controls"
          }
        },
        "4cd780d9042c4e29bc89a73e2fb6b909": {
          "model_module": "@jupyter-widgets/base",
          "model_name": "LayoutModel",
          "state": {
            "_view_name": "LayoutView",
            "grid_template_rows": null,
            "right": null,
            "justify_content": null,
            "_view_module": "@jupyter-widgets/base",
            "overflow": null,
            "_model_module_version": "1.2.0",
            "_view_count": null,
            "flex_flow": null,
            "width": null,
            "min_width": null,
            "border": null,
            "align_items": null,
            "bottom": null,
            "_model_module": "@jupyter-widgets/base",
            "top": null,
            "grid_column": null,
            "overflow_y": null,
            "overflow_x": null,
            "grid_auto_flow": null,
            "grid_area": null,
            "grid_template_columns": null,
            "flex": null,
            "_model_name": "LayoutModel",
            "justify_items": null,
            "grid_row": null,
            "max_height": null,
            "align_content": null,
            "visibility": null,
            "align_self": null,
            "height": null,
            "min_height": null,
            "padding": null,
            "grid_auto_rows": null,
            "grid_gap": null,
            "max_width": null,
            "order": null,
            "_view_module_version": "1.2.0",
            "grid_template_areas": null,
            "object_position": null,
            "object_fit": null,
            "grid_auto_columns": null,
            "margin": null,
            "display": null,
            "left": null
          }
        }
      }
    }
  },
  "cells": [
    {
      "cell_type": "code",
      "metadata": {
        "colab": {
          "base_uri": "https://localhost:8080/"
        },
        "id": "KQJBnILtnnl8",
        "outputId": "9679cb6d-9636-495b-8f94-635bbd5d2793"
      },
      "source": [
        "from google.colab import drive\n",
        "drive.mount('/content/gdrive')\n",
        "#!cd /content/gdrive/My\\ Drive/BioImage/Project\n",
        "!pip install --upgrade --force-reinstall --no-deps kaggle\n",
        "import os\n",
        "os.environ['KAGGLE_USERNAME'] = \"serenaabraham\" \n",
        "os.environ['KAGGLE_KEY'] = \"0aa4e1881376dfb2149dcfb30ffe7975\""
      ],
      "execution_count": 1,
      "outputs": [
        {
          "output_type": "stream",
          "text": [
            "Mounted at /content/gdrive\n",
            "Collecting kaggle\n",
            "\u001b[?25l  Downloading https://files.pythonhosted.org/packages/99/33/365c0d13f07a2a54744d027fe20b60dacdfdfb33bc04746db6ad0b79340b/kaggle-1.5.10.tar.gz (59kB)\n",
            "\u001b[K     |████████████████████████████████| 61kB 3.1MB/s \n",
            "\u001b[?25hBuilding wheels for collected packages: kaggle\n",
            "  Building wheel for kaggle (setup.py) ... \u001b[?25l\u001b[?25hdone\n",
            "  Created wheel for kaggle: filename=kaggle-1.5.10-cp36-none-any.whl size=73269 sha256=f77503b3d28a67aa5b7c07e4e5d940ae9d485b50d09087cea14b460ebdf7d517\n",
            "  Stored in directory: /root/.cache/pip/wheels/3a/d1/7e/6ce09b72b770149802c653a02783821629146983ee5a360f10\n",
            "Successfully built kaggle\n",
            "Installing collected packages: kaggle\n",
            "  Found existing installation: kaggle 1.5.10\n",
            "    Uninstalling kaggle-1.5.10:\n",
            "      Successfully uninstalled kaggle-1.5.10\n",
            "Successfully installed kaggle-1.5.10\n"
          ],
          "name": "stdout"
        }
      ]
    },
    {
      "cell_type": "code",
      "metadata": {
        "id": "YLi2Q2sPn401",
        "colab": {
          "base_uri": "https://localhost:8080/"
        },
        "outputId": "96b05c90-34e7-4fe0-8d1f-b08774465203"
      },
      "source": [
        "!kaggle datasets download -d andrewmvd/malignant-lymphoma-classification\n",
        "!unzip -q /content/malignant-lymphoma-classification.zip"
      ],
      "execution_count": 2,
      "outputs": [
        {
          "output_type": "stream",
          "text": [
            "Downloading malignant-lymphoma-classification.zip to /content\n",
            " 99% 1.33G/1.34G [01:27<00:01, 9.67MB/s]\n",
            "100% 1.34G/1.34G [01:27<00:00, 16.6MB/s]\n"
          ],
          "name": "stdout"
        }
      ]
    },
    {
      "cell_type": "code",
      "metadata": {
        "id": "YE7upblvpRnr"
      },
      "source": [
        "from skimage import io\n",
        "import matplotlib.pyplot as plt\n",
        "\n",
        "for fn in os.listdir('inputs/MCL'):\n",
        "  if(fn.endswith('.tif')):\n",
        "    original = io.imread('inputs/MCL/' + fn, plugin='tifffile')\n",
        "    height, width, length = original.shape\n",
        "    width_cutoff=width//2\n",
        "    img1=original[:,:width_cutoff,:]\n",
        "    img2=original[:,width_cutoff:,:]\n",
        "    plt.imsave('inputs/MCL/' + fn[:-4] + '1.png', img1)\n",
        "    plt.imsave('inputs/MCL/' + fn[:-4] + '2.png', img2)\n",
        "    os.remove('inputs/MCL/'+fn)"
      ],
      "execution_count": 5,
      "outputs": []
    },
    {
      "cell_type": "code",
      "metadata": {
        "colab": {
          "base_uri": "https://localhost:8080/"
        },
        "id": "2ZNjueiFy0VN",
        "outputId": "293a7558-3bce-426b-e009-137be1eb67b6"
      },
      "source": [
        "!pip install split_folders\n",
        "import splitfolders\n",
        "splitfolders.ratio('inputs', output='output', seed=1337, ratio=(.8, 0.1,0.1)) "
      ],
      "execution_count": 6,
      "outputs": [
        {
          "output_type": "stream",
          "text": [
            "Collecting split_folders\n",
            "  Downloading https://files.pythonhosted.org/packages/b8/5f/3c2b2f7ea5e047c8cdc3bb00ae582c5438fcdbbedcc23b3cc1c2c7aae642/split_folders-0.4.3-py3-none-any.whl\n",
            "Installing collected packages: split-folders\n",
            "Successfully installed split-folders-0.4.3\n"
          ],
          "name": "stdout"
        },
        {
          "output_type": "stream",
          "text": [
            "Copying files: 748 files [00:03, 211.54 files/s]\n"
          ],
          "name": "stderr"
        }
      ]
    },
    {
      "cell_type": "code",
      "metadata": {
        "id": "B0KTl72CzXO8"
      },
      "source": [
        "import torch\n",
        "import torch.nn as nn\n",
        "import torch.nn.functional as F\n",
        "import torch.optim as optim\n",
        "import torchvision\n",
        "import torchvision.transforms as transforms\n",
        "import torchvision.datasets as datasets\n",
        "from torch.optim.lr_scheduler import StepLR\n",
        "from functools import partial\n",
        "from dataclasses import dataclass\n",
        "from collections import OrderedDict\n",
        "from torchvision import datasets, models, transforms\n",
        "\n",
        "\n",
        "\n",
        "import os\n",
        "import random\n",
        "import numpy as np\n",
        "import time\n",
        "\n",
        "SEED = 1234\n",
        "\n",
        "random.seed(SEED)\n",
        "np.random.seed(SEED)\n",
        "torch.manual_seed(SEED)\n",
        "torch.cuda.manual_seed(SEED)\n",
        "torch.backends.cudnn.deterministic = True\n",
        "\n",
        "def load_dataset():\n",
        "    train_data_path = './output/train'\n",
        "    test_data_path = './output/test'\n",
        "    valid_data_path = './output/val'\n",
        "\n",
        "    train_dataset = torchvision.datasets.ImageFolder(root=train_data_path,transform=torchvision.transforms.ToTensor())\n",
        "    test_dataset = torchvision.datasets.ImageFolder(root=test_data_path,transform=torchvision.transforms.ToTensor())\n",
        "    valid_dataset = torchvision.datasets.ImageFolder(root=valid_data_path,transform=torchvision.transforms.ToTensor())\n",
        "\n",
        "    train_iterator = torch.utils.data.DataLoader(train_dataset,batch_size=32,num_workers=0,shuffle=True)\n",
        "    test_iterator = torch.utils.data.DataLoader(test_dataset,batch_size=32,num_workers=0,shuffle=False)\n",
        "    valid_iterator = torch.utils.data.DataLoader(valid_dataset,batch_size=32,num_workers=0,shuffle=True)\n",
        "\n",
        "    return train_iterator, test_iterator, valid_iterator\n",
        "\n",
        "\n",
        "\n",
        "def calculate_accuracy(fx, y):\n",
        "    preds = fx.max(1, keepdim=True)[1]\n",
        "    correct = preds.eq(y.view_as(preds)).sum()\n",
        "    acc = correct.float()/preds.shape[0]\n",
        "    return acc\n",
        "\n",
        "\n",
        "\n",
        "def train(model, device, iterator, optimizer, criterion):\n",
        "\n",
        "    epoch_loss = 0\n",
        "    epoch_acc = 0\n",
        "\n",
        "    model.train()\n",
        "\n",
        "    for (x, y) in iterator:\n",
        "\n",
        "        x = x.to(device)\n",
        "        y = y.to(device)\n",
        "\n",
        "        optimizer.zero_grad()\n",
        "\n",
        "        fx = model(x)\n",
        "\n",
        "        loss = criterion(fx, y)\n",
        "\n",
        "        acc = calculate_accuracy(fx, y)\n",
        "\n",
        "        loss.backward()\n",
        "\n",
        "        optimizer.step()\n",
        "\n",
        "        epoch_loss += loss.item()\n",
        "        epoch_acc += acc.item()\n",
        "\n",
        "    #scheduler.step()\n",
        "\n",
        "    return epoch_loss / len(iterator), epoch_acc / len(iterator)\n",
        "\n",
        "\n",
        "\n",
        "\n",
        "def evaluate(model, device, iterator, criterion):\n",
        "\n",
        "    epoch_loss = 0\n",
        "    epoch_acc = 0\n",
        "\n",
        "    model.eval()\n",
        "\n",
        "    with torch.no_grad():\n",
        "        for (x, y) in iterator:\n",
        "\n",
        "            x = x.to(device)\n",
        "            y = y.to(device)\n",
        "\n",
        "            fx = model(x)\n",
        "\n",
        "            loss = criterion(fx, y)\n",
        "\n",
        "            acc = calculate_accuracy(fx, y)\n",
        "\n",
        "            epoch_loss += loss.item()\n",
        "            epoch_acc += acc.item()\n",
        "\n",
        "    return epoch_loss / len(iterator), epoch_acc / len(iterator)"
      ],
      "execution_count": 7,
      "outputs": []
    },
    {
      "cell_type": "code",
      "metadata": {
        "colab": {
          "base_uri": "https://localhost:8080/",
          "height": 1000,
          "referenced_widgets": [
            "3ad8689e91734af59bea213d026b30ce",
            "603f56bffeb74d158736f0425d6876a5",
            "c7efaa1e5a7a45ff9bce10e12ee50ddc",
            "fc7d5803b3c043ba8b4f646678383051",
            "d30c6790fef64c91a852f0853130a2ab",
            "bf2efa9565954877bd945c3b822f6f7d",
            "2f114f48d76c4746a114be911fc0dbd2",
            "4cd780d9042c4e29bc89a73e2fb6b909"
          ]
        },
        "id": "M6988LcqzcKg",
        "outputId": "971567a2-65a4-47fb-d88d-ab645d8a29ce"
      },
      "source": [
        "from torchvision import datasets, models, transforms\n",
        "model=models.resnet18(pretrained=True)\n",
        "#set_parameter_requires_grad(model, True)\n",
        "num_ftrs = 512\n",
        "num_classes = 3\n",
        "model.fc = nn.Linear(num_ftrs, num_classes)\n",
        "import time\n",
        "params_to_update = []\n",
        "for name,param in model.named_parameters():\n",
        "  if param.requires_grad == True:\n",
        "    params_to_update.append(param)\n",
        "    print(\"\\t\",name)\n",
        "learningRate = 1e-2\n",
        "weightDecay = 5e-5\n",
        "numEpochs = 20\n",
        "device = torch.device('cuda' if torch.cuda.is_available() else 'cpu')\n",
        "criterion = nn.CrossEntropyLoss()\n",
        "optimizer = torch.optim.SGD(params_to_update, lr=learningRate, momentum=0.9)"
      ],
      "execution_count": 8,
      "outputs": [
        {
          "output_type": "stream",
          "text": [
            "Downloading: \"https://download.pytorch.org/models/resnet18-5c106cde.pth\" to /root/.cache/torch/hub/checkpoints/resnet18-5c106cde.pth\n"
          ],
          "name": "stderr"
        },
        {
          "output_type": "display_data",
          "data": {
            "application/vnd.jupyter.widget-view+json": {
              "model_id": "3ad8689e91734af59bea213d026b30ce",
              "version_minor": 0,
              "version_major": 2
            },
            "text/plain": [
              "HBox(children=(FloatProgress(value=0.0, max=46827520.0), HTML(value='')))"
            ]
          },
          "metadata": {
            "tags": []
          }
        },
        {
          "output_type": "stream",
          "text": [
            "\n",
            "\t conv1.weight\n",
            "\t bn1.weight\n",
            "\t bn1.bias\n",
            "\t layer1.0.conv1.weight\n",
            "\t layer1.0.bn1.weight\n",
            "\t layer1.0.bn1.bias\n",
            "\t layer1.0.conv2.weight\n",
            "\t layer1.0.bn2.weight\n",
            "\t layer1.0.bn2.bias\n",
            "\t layer1.1.conv1.weight\n",
            "\t layer1.1.bn1.weight\n",
            "\t layer1.1.bn1.bias\n",
            "\t layer1.1.conv2.weight\n",
            "\t layer1.1.bn2.weight\n",
            "\t layer1.1.bn2.bias\n",
            "\t layer2.0.conv1.weight\n",
            "\t layer2.0.bn1.weight\n",
            "\t layer2.0.bn1.bias\n",
            "\t layer2.0.conv2.weight\n",
            "\t layer2.0.bn2.weight\n",
            "\t layer2.0.bn2.bias\n",
            "\t layer2.0.downsample.0.weight\n",
            "\t layer2.0.downsample.1.weight\n",
            "\t layer2.0.downsample.1.bias\n",
            "\t layer2.1.conv1.weight\n",
            "\t layer2.1.bn1.weight\n",
            "\t layer2.1.bn1.bias\n",
            "\t layer2.1.conv2.weight\n",
            "\t layer2.1.bn2.weight\n",
            "\t layer2.1.bn2.bias\n",
            "\t layer3.0.conv1.weight\n",
            "\t layer3.0.bn1.weight\n",
            "\t layer3.0.bn1.bias\n",
            "\t layer3.0.conv2.weight\n",
            "\t layer3.0.bn2.weight\n",
            "\t layer3.0.bn2.bias\n",
            "\t layer3.0.downsample.0.weight\n",
            "\t layer3.0.downsample.1.weight\n",
            "\t layer3.0.downsample.1.bias\n",
            "\t layer3.1.conv1.weight\n",
            "\t layer3.1.bn1.weight\n",
            "\t layer3.1.bn1.bias\n",
            "\t layer3.1.conv2.weight\n",
            "\t layer3.1.bn2.weight\n",
            "\t layer3.1.bn2.bias\n",
            "\t layer4.0.conv1.weight\n",
            "\t layer4.0.bn1.weight\n",
            "\t layer4.0.bn1.bias\n",
            "\t layer4.0.conv2.weight\n",
            "\t layer4.0.bn2.weight\n",
            "\t layer4.0.bn2.bias\n",
            "\t layer4.0.downsample.0.weight\n",
            "\t layer4.0.downsample.1.weight\n",
            "\t layer4.0.downsample.1.bias\n",
            "\t layer4.1.conv1.weight\n",
            "\t layer4.1.bn1.weight\n",
            "\t layer4.1.bn1.bias\n",
            "\t layer4.1.conv2.weight\n",
            "\t layer4.1.bn2.weight\n",
            "\t layer4.1.bn2.bias\n",
            "\t fc.weight\n",
            "\t fc.bias\n"
          ],
          "name": "stdout"
        }
      ]
    },
    {
      "cell_type": "code",
      "metadata": {
        "colab": {
          "base_uri": "https://localhost:8080/",
          "height": 550
        },
        "id": "qCpcKYVgzdYo",
        "outputId": "5af676c9-3396-4cac-cefd-a4203a0759e4"
      },
      "source": [
        "import matplotlib.pyplot as plt\n",
        "\n",
        "if __name__ == \"__main__\":\n",
        "\n",
        "    train_iterator, test_iterator, valid_iterator = load_dataset()\n",
        "\n",
        "    device = torch.device('cuda' if torch.cuda.is_available() else 'cpu')\n",
        "    #model=Net()\n",
        "    #model=MobileNet()\n",
        "    model.to(device)\n",
        "\n",
        "    optimizer = optim.Adam(model.parameters())\n",
        "    scheduler = StepLR(optimizer, step_size=5, gamma=0.2)\n",
        "\n",
        "    criterion = nn.CrossEntropyLoss()\n",
        "\n",
        "    trainSet=[]\n",
        "    validSet=[]\n",
        "\n",
        "\n",
        "    ### Training ###\n",
        "    EPOCHS = 14\n",
        "    SAVE_DIR = 'models'\n",
        "    MODEL_SAVE_PATH = os.path.join(SAVE_DIR, 'mlp-mnist.pt')\n",
        "\n",
        "    best_valid_loss = float('inf')\n",
        "    time_curr = time.time()\n",
        "\n",
        "    if not os.path.isdir(f'{SAVE_DIR}'):\n",
        "        os.makedirs(f'{SAVE_DIR}')\n",
        "\n",
        "    for epoch in range(EPOCHS):\n",
        "        train_loss, train_acc = train(model, device, train_iterator, optimizer, criterion)\n",
        "        valid_loss, valid_acc = evaluate(model, device, valid_iterator, criterion)\n",
        "\n",
        "        if valid_loss < best_valid_loss:\n",
        "            best_valid_loss = valid_loss\n",
        "            torch.save(model.state_dict(), MODEL_SAVE_PATH)\n",
        "\n",
        "        print(\"|Epoch: {0:d} | Train loss: {1:.3f} | Train Acc: {2:.2f}% | Val Loss : {3:.3f} | Val Acc: {4:.2f}% | Time used: {5:d}s |\".format(epoch+1,\n",
        "            train_loss, train_acc*100, valid_loss, valid_acc*100, int(time.time()-time_curr)))\n",
        "        \n",
        "        trainSet.append(train_acc*100)\n",
        "        validSet.append(valid_acc*100) \n",
        "\n",
        "        time_curr = time.time()\n",
        "    plt.plot(trainSet, validSet, 'go', markersize=5.0)\n",
        "    plt.xlabel(\"training accuracy\")\n",
        "    plt.ylabel(\"validation accuracy\")\n",
        "    plt.title(\"Training vs Validation Accuracy\")\n",
        "    plt.show()\n",
        "\n",
        "\n",
        "    ### Testing ###\n",
        "    model.load_state_dict(torch.load(MODEL_SAVE_PATH))\n",
        "\n",
        "    test_loss, test_acc = evaluate(model, device, test_iterator, criterion)\n",
        "\n",
        "    print('| Test Loss: {0:.3f} | Test Acc: {1:.2f}% |'.format(test_loss,test_acc*100))\n"
      ],
      "execution_count": 9,
      "outputs": [
        {
          "output_type": "stream",
          "text": [
            "|Epoch: 1 | Train loss: 0.929 | Train Acc: 61.32% | Val Loss : 1.992 | Val Acc: 43.40% | Time used: 50s |\n",
            "|Epoch: 2 | Train loss: 0.627 | Train Acc: 73.59% | Val Loss : 4.177 | Val Acc: 34.03% | Time used: 50s |\n",
            "|Epoch: 3 | Train loss: 0.435 | Train Acc: 84.69% | Val Loss : 1.377 | Val Acc: 74.31% | Time used: 50s |\n",
            "|Epoch: 4 | Train loss: 0.482 | Train Acc: 81.97% | Val Loss : 1.485 | Val Acc: 67.59% | Time used: 50s |\n",
            "|Epoch: 5 | Train loss: 0.331 | Train Acc: 88.23% | Val Loss : 0.723 | Val Acc: 74.42% | Time used: 50s |\n",
            "|Epoch: 6 | Train loss: 0.237 | Train Acc: 90.95% | Val Loss : 1.726 | Val Acc: 64.35% | Time used: 50s |\n",
            "|Epoch: 7 | Train loss: 0.317 | Train Acc: 88.31% | Val Loss : 1.031 | Val Acc: 74.42% | Time used: 50s |\n",
            "|Epoch: 8 | Train loss: 0.293 | Train Acc: 88.23% | Val Loss : 1.078 | Val Acc: 63.89% | Time used: 50s |\n",
            "|Epoch: 9 | Train loss: 0.308 | Train Acc: 90.21% | Val Loss : 0.421 | Val Acc: 83.80% | Time used: 50s |\n",
            "|Epoch: 10 | Train loss: 0.220 | Train Acc: 91.69% | Val Loss : 0.850 | Val Acc: 71.30% | Time used: 50s |\n",
            "|Epoch: 11 | Train loss: 0.108 | Train Acc: 97.12% | Val Loss : 1.332 | Val Acc: 69.10% | Time used: 50s |\n",
            "|Epoch: 12 | Train loss: 0.173 | Train Acc: 94.24% | Val Loss : 3.410 | Val Acc: 52.43% | Time used: 50s |\n",
            "|Epoch: 13 | Train loss: 0.129 | Train Acc: 95.88% | Val Loss : 1.159 | Val Acc: 64.93% | Time used: 50s |\n",
            "|Epoch: 14 | Train loss: 0.157 | Train Acc: 95.06% | Val Loss : 0.585 | Val Acc: 86.92% | Time used: 50s |\n"
          ],
          "name": "stdout"
        },
        {
          "output_type": "display_data",
          "data": {
            "image/png": "[encoded data removed]",
            "text/plain": [
              "<Figure size 432x288 with 1 Axes>"
            ]
          },
          "metadata": {
            "tags": [],
            "needs_background": "light"
          }
        },
        {
          "output_type": "stream",
          "text": [
            "| Test Loss: 0.652 | Test Acc: 76.04% |\n"
          ],
          "name": "stdout"
        }
      ]
    },
    {
      "cell_type": "code",
      "metadata": {
        "colab": {
          "base_uri": "https://localhost:8080/"
        },
        "id": "UIZTNW5wI5AP",
        "outputId": "a694ad81-b1ec-488b-9254-3b808b856dc2"
      },
      "source": [
        "trainSet"
      ],
      "execution_count": null,
      "outputs": [
        {
          "output_type": "execute_result",
          "data": {
            "text/plain": [
              "[71.10745624492043,\n",
              " 75.56390981925162,\n",
              " 84.8527569519846,\n",
              " 87.99342105263158,\n",
              " 90.44486221514249,\n",
              " 91.93295742336073,\n",
              " 92.26190479178177,\n",
              " 92.09743110757125,\n",
              " 94.56453637072914,\n",
              " 92.67700502746983,\n",
              " 95.88815789473685,\n",
              " 95.55921052631578,\n",
              " 95.39473684210526,\n",
              " 96.05263157894737]"
            ]
          },
          "metadata": {
            "tags": []
          },
          "execution_count": 75
        }
      ]
    },
    {
      "cell_type": "code",
      "metadata": {
        "colab": {
          "base_uri": "https://localhost:8080/",
          "height": 332
        },
        "id": "XT0i8eFRzpc6",
        "outputId": "295b5787-be06-43d3-ffd9-56c9528e97a3"
      },
      "source": [
        "#print(trainSet)\n",
        "print(trainSet)\n",
        "trainSetnew=[i/100 for i in trainSet]\n",
        "validSetnew=[i/100 for i in validSet]\n",
        "plt.plot(trainSetnew,'r')\n",
        "plt.plot(validSetnew, 'b')\n",
        "plt.legend([\"Training Accuracy\",\"Validation Accuracy\"])\n",
        "plt.xlabel(\"Epochs\")\n",
        "plt.ylabel(\"Accuracy\")\n",
        "plt.title(\"Training Accuracy vs Epochs\")\n",
        "plt.show()\n",
        "#print(trainSet)\n",
        "\n"
      ],
      "execution_count": 10,
      "outputs": [
        {
          "output_type": "stream",
          "text": [
            "[61.31735600923237, 73.5902256087253, 84.68828326777408, 81.97055145313865, 88.22838350346214, 90.95394736842105, 88.31453637072914, 88.22838350346214, 90.20989976431194, 91.69016292220668, 97.11779450115404, 94.23558900230809, 95.88032584441336, 95.05795742336073]\n"
          ],
          "name": "stdout"
        },
        {
          "output_type": "display_data",
          "data": {
            "image/png": "[encoded data removed]",
            "text/plain": [
              "<Figure size 432x288 with 1 Axes>"
            ]
          },
          "metadata": {
            "tags": [],
            "needs_background": "light"
          }
        }
      ]
    },
    {
      "cell_type": "code",
      "metadata": {
        "id": "VKShF3tm6wGt"
      },
      "source": [
        "def evaluate2(model, device, iterator, criterion):\n",
        "\n",
        "    epoch_loss = 0\n",
        "    epoch_acc = 0\n",
        "    expected=[]\n",
        "    calculated=[]\n",
        "\n",
        "    model.eval()\n",
        "\n",
        "    with torch.no_grad():\n",
        "        for (x, y) in iterator:\n",
        "\n",
        "\n",
        "\n",
        "            x = x.to(device)\n",
        "            y = y.to(device)\n",
        "            \n",
        "            \n",
        "\n",
        "            fx = model(x)\n",
        "            preds = fx.max(1, keepdim=True)[1]\n",
        "            correct = preds.eq(y.view_as(preds)).sum()\n",
        "            \n",
        "            expected.append(y)\n",
        "            calculated.append(fx)\n",
        "\n",
        "            loss = criterion(fx, y)\n",
        "\n",
        "            \n",
        "\n",
        "            acc = calculate_accuracy(fx, y)\n",
        "\n",
        "            epoch_loss += loss.item()\n",
        "            epoch_acc += acc.item()\n",
        "\n",
        "    return epoch_loss / len(iterator), epoch_acc / len(iterator), expected, calculated"
      ],
      "execution_count": 11,
      "outputs": []
    },
    {
      "cell_type": "code",
      "metadata": {
        "id": "qB_NHGJs7S-g"
      },
      "source": [
        "test_loss, test_acc, expected, calculated = evaluate2(model, device, test_iterator, criterion)"
      ],
      "execution_count": 12,
      "outputs": []
    }
  ]
}